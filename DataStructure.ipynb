{
  "nbformat": 4,
  "nbformat_minor": 0,
  "metadata": {
    "colab": {
      "name": "DataStructure.ipynb",
      "provenance": []
    },
    "kernelspec": {
      "name": "python3",
      "display_name": "Python 3"
    },
    "language_info": {
      "name": "python"
    }
  },
  "cells": [
    {
      "cell_type": "markdown",
      "source": [
        "Bài 1. Cho một list các số nguyên num_list và một sliding window (các bạn có thể tạm hiểu sliding\n",
        "window như là một list có kích thước nhỏ hơn num_list) có kích thước size k di chuyển từ trái\n",
        "sang phải. Mỗi lần dịch chuyển 1 vị trí sang phải có thể nhìn thấy đươc k số trong num_list và\n",
        "tìm số lớn nhất trong k số này sau mỗi lần trượt. k phải lớn hơn hoặc bằng 1. Các bạn hãy viết\n",
        "chương trình Python giải quyết vấn đề trên.\n",
        "\n",
        "• Input: num_list = [3, 4, 5, 1, −44, 5, 10, 12, 33, 1], k = 3\n",
        "\n",
        "• Output: [5, 5, 5, 5, 10, 12, 33, 33]"
      ],
      "metadata": {
        "id": "mmgGEBfgml9X"
      }
    },
    {
      "cell_type": "code",
      "execution_count": null,
      "metadata": {
        "id": "In0H0UaYl3vf"
      },
      "outputs": [],
      "source": [
        "def printMax(arr, n, k):\n",
        "    max = 0 \n",
        "   \n",
        "    for i in range(n - k + 1): \n",
        "        max = arr[i]\n",
        "        for j in range(1, k): \n",
        "            if arr[i + j] > max:\n",
        "                max = arr[i + j]\n",
        "        print(str(max) + \" \", end = \"\")\n",
        "\n",
        "arr = [3, 4, 5, 1, -44, 5, 10, 12, 33, 1]\n",
        "n = len(arr) \n",
        "k = 3 \n",
        "printMax(arr, n, k)"
      ]
    },
    {
      "cell_type": "markdown",
      "source": [
        "Bài 2. Cho 2 list các số nguyên là num_list1 và num_list2, các bạn hãy viết chương trình trả về list các số đều có trong 2 list đầu vào, thứ tự không quan trọng. Lưu ý, không được sử dụng hàm intersection() có sẵn của Python.\n",
        "\n",
        "• Case 1: – Input: nums1 = [1, 2, 2, 1], nums2 = [2, 2] – Output: [2, 2]\n",
        "\n",
        "• Case 2: – Input: nums1 = [4, 9, 5], nums2 = [9, 4, 9, 8, 4] – Output: [4, 9] hoặc [9, 4]"
      ],
      "metadata": {
        "id": "7kK2hT9dmx4d"
      }
    },
    {
      "cell_type": "code",
      "source": [
        "def intersect(list1, list2):\n",
        "  intersect = []\n",
        "  for i in list1:\n",
        "    if i in list2:\n",
        "      intersect.append(i)\n",
        "  print(intersect)\n",
        " \n",
        " \n",
        "A = [1, 2, 2, 1]\n",
        "B = [2, 2]\n",
        " \n",
        "intersect(A,B)"
      ],
      "metadata": {
        "colab": {
          "base_uri": "https://localhost:8080/"
        },
        "id": "feUn37PCmu9k",
        "outputId": "88358695-38ee-46d2-f4ce-473430908173"
      },
      "execution_count": null,
      "outputs": [
        {
          "output_type": "stream",
          "name": "stdout",
          "text": [
            "[2, 2]\n"
          ]
        }
      ]
    },
    {
      "cell_type": "markdown",
      "source": [
        "Bài 3. Viết hàm tính MAE, MSE, RMSE, Huber Loss.\n",
        "\n",
        "Với Huber Loss, delta = 0.5."
      ],
      "metadata": {
        "id": "8R5QEdfFnS8I"
      }
    },
    {
      "cell_type": "code",
      "source": [
        "import random\n",
        "import math\n",
        "theta = 0.5\n",
        "num_samples = input('Input number of samples (integer number) which are generated: ')\n",
        "num_samples = int(num_samples)\n",
        "list1=[(lambda x: random.randint(0,10))(x) for x in range(num_samples)]\n",
        "print(f'target : {list1}')\n",
        "list2=[(lambda x: random.randint(0,10))(x) for x in range(num_samples)]\n",
        "print(f'predict : {list2}')\n",
        "loss_name = input('Input loss name: ')\n",
        "\n",
        "def list_order_sum(list1, list2):\n",
        "    result = [] \n",
        "    total = 0\n",
        "    n1 = len(list1) \n",
        "    n2 = len(list2) \n",
        "    if n1 > n2:\n",
        "      for i in range(n2,n1): \n",
        "          list2.append(0) \n",
        "                         \n",
        "    elif n2 > n1:\n",
        "      for i in range(n1,n2):\n",
        "          list1.append(0)\n",
        "\n",
        "    n = len(list1) \n",
        "    if loss_name == 'MAE':\n",
        "      for i in range(n): \n",
        "          result.append((abs(list1[i]-list2[i]))/num_samples)\n",
        "          print(result)\n",
        "\n",
        "           \n",
        "\n",
        "    if loss_name == 'MSE' or loss_name == 'RMSE':\n",
        "      for i in range(n): \n",
        "          diff = abs(list1[i]-list2[i])**2\n",
        "          item = diff/num_samples\n",
        "          result.append(item) \n",
        "\n",
        "    if loss_name == 'Huber Loss':       \n",
        "      for i in range(n):\n",
        "        if abs(list1[i] - list2[i]) <= theta:\n",
        "          diff = abs(list1[i]-list2[i])**2\n",
        "          item = (1/2)*diff/num_samples\n",
        "          result.append(item)\n",
        "        else:\n",
        "          item = (theta*(abs(list1[i] - list2[i]) - theta/2))/num_samples \n",
        "          result.append(item)\n",
        "\n",
        "    for element in range(0, len(result)):\n",
        "        print(len(result))      \n",
        "        total = total + result[element] \n",
        "      \n",
        "\n",
        "    if loss_name == 'RMSE':\n",
        "       total = math.sqrt(total)\n",
        "    \n",
        "    print(f'loss name: {loss_name} : {total}')\n",
        "    \n",
        "\n",
        "list_order_sum(list1,list2) "
      ],
      "metadata": {
        "colab": {
          "base_uri": "https://localhost:8080/"
        },
        "id": "ZXozI-uEm1cD",
        "outputId": "b3e2ebcf-50eb-4058-e496-3d60df4bb99f"
      },
      "execution_count": null,
      "outputs": [
        {
          "output_type": "stream",
          "name": "stdout",
          "text": [
            "Input number of samples (integer number) which are generated: 2\n",
            "target : [2, 2]\n",
            "predict : [6, 1]\n",
            "Input loss name: Huber Loss\n",
            "2\n",
            "2\n",
            "loss name: Huber Loss : 1.125\n"
          ]
        }
      ]
    },
    {
      "cell_type": "markdown",
      "source": [
        "Bài 4. Viết hàm toán học và đạo hàm của nó (vẽ đồ thị minh họa):\n",
        "\n",
        "![image.png](data:image/png;base64,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)"
      ],
      "metadata": {
        "id": "fSmQivEapGPP"
      }
    },
    {
      "cell_type": "code",
      "source": [
        "import numpy as np\n",
        "import matplotlib.pyplot as plt\n",
        "data = [-2, -1, 0, 1, 2]\n",
        "result1 = []\n",
        "result2 = []\n",
        "import math \n",
        "def tanh(data):\n",
        "    for i in range(0,len(data)):\n",
        "        result1.append(2/(1+math.exp(-2*data[i])) - 1)   \n",
        "    print(f'tanh:{result1}')\n",
        "\n",
        "def tanh_derivative(data):\n",
        "    for j in range(0,len(data)):\n",
        "        result2.append(1 - (2/(1+math.exp(-2*data[j])) - 1)**2)   \n",
        "    print(f'tanh_derivative:{result2}')\n",
        "\n",
        "tanh(data)\n",
        "tanh_derivative(data)\n",
        "\n",
        "import numpy as np\n",
        "import matplotlib.pyplot as plt\n",
        "\n",
        "def plot(data,result1,result2):\n",
        "    x = np.array(list(sorted(data)))\n",
        "    y = np.array(list(sorted(result1)))\n",
        "    y_derivative = np.array (list(sorted(result2)))\n",
        "    ax = plt.gca()\n",
        "    ax.spines['top'].set_color ('none')\n",
        "    ax.spines['left'].set_position ('zero')\n",
        "    ax.spines['right'].set_color ('none')\n",
        "    ax.spines['bottom'].set_position ('zero')\n",
        "    plt.xlim(-np.pi,np.pi)\n",
        "    plt.plot(x, y, color ='orange', label = f'tanh')\n",
        "    plt.plot(x, y_derivative , color ='green', label = f'tanh_derivative')\n",
        "    plt.grid(True)\n",
        "    plt.legend()\n",
        "    plt.show()\n",
        "\n",
        "plot(data,result1,result2)"
      ],
      "metadata": {
        "colab": {
          "base_uri": "https://localhost:8080/",
          "height": 283
        },
        "id": "9hQFFZTNpHat",
        "outputId": "f00598e8-9d19-4577-d669-ec6127ea995c"
      },
      "execution_count": null,
      "outputs": [
        {
          "output_type": "stream",
          "name": "stdout",
          "text": [
            "tanh:[-0.9640275800758169, -0.7615941559557649, 0.0, 0.7615941559557646, 0.9640275800758169]\n",
            "tanh_derivative:[0.07065082485316443, 0.41997434161402614, 1.0, 0.41997434161402647, 0.07065082485316443]\n"
          ]
        },
        {
          "output_type": "display_data",
          "data": {
            "text/plain": [
              "<Figure size 432x288 with 1 Axes>"
            ],
            "image/png": "[encoded data removed]"
          },
          "metadata": {
            "needs_background": "light"
          }
        }
      ]
    },
    {
      "cell_type": "code",
      "source": [
        "data = [-2, -1, 0, 1, 2]\n",
        "result1 = []\n",
        "result2 = []\n",
        "import math\n",
        "def sigmoid(data):\n",
        "    for i in range(0,len(data)):\n",
        "        result1.append(1/(1 + math.exp(-data[i])))\n",
        "    print(f'sigmoid:{result1}')\n",
        "def sigmoid_derivative(data):\n",
        "    for i in range(0,len(data)):\n",
        "        result2.append(1/(1 + math.exp(-data[i]))*(1-(1/(1 + math.exp(-data[i])))))   \n",
        "    print(f'sigmoid_derivative:{result2}')\n",
        "\n",
        "sigmoid(data)\n",
        "sigmoid_derivative(data)\n",
        "\n",
        "import numpy as np\n",
        "import matplotlib.pyplot as plt\n",
        "\n",
        "def plot(data,result1,result2):\n",
        "    x = np.array(list(sorted(data)))\n",
        "    y = np.array(list(sorted(result1)))\n",
        "    y_derivative = np.array (list(sorted(result2)))\n",
        "    ax = plt.gca()\n",
        "    ax.spines['top'].set_color ('none')\n",
        "    ax.spines['left'].set_position ('zero')\n",
        "    ax.spines['right'].set_color ('none')\n",
        "    ax.spines['bottom'].set_position ('zero')\n",
        "    plt.xlim(-np.pi,np.pi)\n",
        "    plt.plot(x, y, color ='orange', label = f'sigmoid')\n",
        "    plt.plot(x, y_derivative , color ='green', label = f'sigmoid_derivative')\n",
        "    plt.grid(True)\n",
        "    plt.legend()\n",
        "    plt.show()\n",
        "\n",
        "plot(data,result1,result2)"
      ],
      "metadata": {
        "colab": {
          "base_uri": "https://localhost:8080/",
          "height": 317
        },
        "id": "Saf54bHjpOBw",
        "outputId": "7ea08ec3-07fd-40e3-fc52-4282c16cb65a"
      },
      "execution_count": null,
      "outputs": [
        {
          "output_type": "stream",
          "name": "stdout",
          "text": [
            "sigmoid:[0.11920292202211755, 0.2689414213699951, 0.5, 0.7310585786300049, 0.8807970779778823]\n",
            "sigmoid_derivative:[0.1049935854035065, 0.19661193324148185, 0.25, 0.19661193324148185, 0.10499358540350662]\n"
          ]
        },
        {
          "output_type": "display_data",
          "data": {
            "text/plain": [
              "<Figure size 432x288 with 1 Axes>"
            ],
            "image/png": "[encoded data removed]"
          },
          "metadata": {
            "needs_background": "light"
          }
        }
      ]
    },
    {
      "cell_type": "markdown",
      "source": [
        "Bài 5. Trong lập trình, bài toán tìm kiếm phần tử trong list là một trong những bài\n",
        "toán lập trình cơ bản, với input đầu vào là một list và phần tử ta muốn tìm kiếm x, output sẽ\n",
        "là chỉ mục i (index) hay còn được gọi là vị trí của phần tử x trong list. "
      ],
      "metadata": {
        "id": "AXnN1La6pcYB"
      }
    },
    {
      "cell_type": "code",
      "source": [
        "def binary_search(list1, n):  \n",
        "    low = 0  \n",
        "    high = len(list1) - 1  \n",
        "    mid = 0  \n",
        "  \n",
        "    while low <= high:  \n",
        "        mid = (high + low) // 2  \n",
        "        if list1[mid] < n:  \n",
        "            low = mid + 1    \n",
        "        elif list1[mid] > n:  \n",
        "            high = mid - 1    \n",
        "        else:  \n",
        "            return mid  \n",
        "              \n",
        "    return -1  \n",
        "   \n",
        "list1 = [1, 2, 3, 4, 5, 6, 7, 8, 9, 10]  \n",
        "n = 3   \n",
        "binary_search(list1, n)  "
      ],
      "metadata": {
        "colab": {
          "base_uri": "https://localhost:8080/"
        },
        "id": "JZFE9M_zpdmQ",
        "outputId": "7ee07456-70f9-4a3b-ab75-382a0476cf4a"
      },
      "execution_count": null,
      "outputs": [
        {
          "output_type": "execute_result",
          "data": {
            "text/plain": [
              "2"
            ]
          },
          "metadata": {},
          "execution_count": 9
        }
      ]
    }
  ]
}